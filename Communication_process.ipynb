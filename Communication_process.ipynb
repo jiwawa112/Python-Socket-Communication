{
 "cells": [
  {
   "cell_type": "markdown",
   "metadata": {
    "collapsed": true
   },
   "source": [
    "## 服务器：\n",
    "+ ①建立套接字socket\tsocket.socket()\n",
    "+ ②绑定主机和端口号\tbind(ip,port)\n",
    "+ ③开启监听机制\tlistent()\n",
    "+ ④处于接受状态\taccept()\n",
    "+ ⑤接收到连接请求，建立连接成功\trecv()\n",
    "+ ⑥实现通信\n",
    "+ ⑦关闭通信\tclose()"
   ]
  },
  {
   "cell_type": "markdown",
   "metadata": {},
   "source": [
    "## 客户端：\n",
    "+ ①建立套接字\t    socket.socket()\n",
    "+ ②连接指定主机和端口号\tconnect()\n",
    "+ ③发送连接请求，建立连接成功\tsend()\n",
    "+ ④实现通信\n",
    "+ ⑤关闭通信\tclose()\n"
   ]
  },
  {
   "cell_type": "markdown",
   "metadata": {},
   "source": [
    "+ socket.bind()#绑定IP地址和端口到套接字\n",
    "+ socket.listen()#开启TCP监听\n",
    "+ socket.accept()#被动接受TCP客户端的连接\n",
    "+ sockt.connect()#主动初始化TCP连接\n",
    "+ socket.connect_ex()#connect函数的扩展，出错时返回错误码而不会抛出异常\n",
    "+ socket.gethostname() # 获取本地主机名\n",
    "+ socket.recv()#接受TCP数据\n",
    "+ socket.send()#发送TCP数据，返回值为发送字节数（可能小于string字节）\n",
    "+ socket.sendall()#发送完整的TCP数据\n",
    "+ socket.sendto()#指定远程地址，返回值也为发送字节数\n",
    "+ socket.getsockname()#返回套接字地址\n",
    "+ socket.close()#关闭套接字\n",
    "+ socket.settimeout()#设置套接字操作的超时期"
   ]
  },
  {
   "cell_type": "code",
   "execution_count": null,
   "metadata": {},
   "outputs": [],
   "source": []
  }
 ],
 "metadata": {
  "kernelspec": {
   "display_name": "Python 2",
   "language": "python",
   "name": "python2"
  },
  "language_info": {
   "codemirror_mode": {
    "name": "ipython",
    "version": 2
   },
   "file_extension": ".py",
   "mimetype": "text/x-python",
   "name": "python",
   "nbconvert_exporter": "python",
   "pygments_lexer": "ipython2",
   "version": "2.7.6"
  }
 },
 "nbformat": 4,
 "nbformat_minor": 0
}
